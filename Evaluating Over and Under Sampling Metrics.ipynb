{
 "cells": [
  {
   "cell_type": "code",
   "execution_count": 1,
   "id": "40120de5",
   "metadata": {},
   "outputs": [],
   "source": [
    "from sklearn.datasets import make_classification\n",
    "from imblearn.under_sampling import RandomUnderSampler\n",
    "from imblearn.over_sampling import RandomOverSampler\n",
    "from imblearn.over_sampling import SMOTE\n",
    "from sklearn import tree\n",
    "from sklearn import metrics\n",
    "from sklearn.model_selection import train_test_split"
   ]
  },
  {
   "cell_type": "code",
   "execution_count": 2,
   "id": "c00664bd",
   "metadata": {},
   "outputs": [],
   "source": [
    "# Generate the dataset with 2 features to keep it simple\n",
    "X, y = make_classification(n_samples=5000, n_features=2, n_informative=2,\n",
    "                          n_redundant=0, weights=[0.9, 0.1], random_state=41)"
   ]
  },
  {
   "cell_type": "code",
   "execution_count": 3,
   "id": "09db7b36",
   "metadata": {},
   "outputs": [
    {
     "name": "stdout",
     "output_type": "stream",
     "text": [
      "Positive class:  517\n",
      "Negative class:  4483\n"
     ]
    }
   ],
   "source": [
    "print(\"Positive class: \", y.tolist().count(1))\n",
    "print(\"Negative class: \", y.tolist().count(0))"
   ]
  },
  {
   "cell_type": "code",
   "execution_count": 4,
   "id": "00a2b50b",
   "metadata": {},
   "outputs": [],
   "source": [
    "#Apply random under-sampling\n",
    "rus = RandomUnderSampler()\n",
    "X_RUS, y_RUS = rus.fit_resample(X, y)"
   ]
  },
  {
   "cell_type": "code",
   "execution_count": 5,
   "id": "9071e059",
   "metadata": {},
   "outputs": [],
   "source": [
    "#Apply random over-sampling\n",
    "ros = RandomOverSampler()\n",
    "X_ROS, y_ROS = ros.fit_resample(X, y)"
   ]
  },
  {
   "cell_type": "code",
   "execution_count": 6,
   "id": "67292a58",
   "metadata": {},
   "outputs": [],
   "source": [
    "#Apply Synthetic Minority Oversampling Technique\n",
    "sm = SMOTE()\n",
    "X_SMOTE, y_SMOTE = sm.fit_resample(X, y)"
   ]
  },
  {
   "cell_type": "code",
   "execution_count": 7,
   "id": "2e619cb7",
   "metadata": {},
   "outputs": [],
   "source": [
    "# Split into training and test datasets\n",
    "X_RUS_train, X_RUS_test, y_RUS_train, y_RUS_test = train_test_split(X_RUS, y_RUS, test_size=0.3, random_state=42)\n",
    "\n",
    "X_ROS_train, X_ROS_test, y_ROS_train, y_ROS_test = train_test_split(X_ROS, y_ROS, test_size=0.3, random_state=42)\n",
    "\n",
    "X_SMOTE_train, X_SMOTE_test, y_SMOTE_train, y_SMOTE_test = train_test_split(X_SMOTE, y_SMOTE, test_size=0.3, random_state=42)\n"
   ]
  },
  {
   "cell_type": "code",
   "execution_count": 8,
   "id": "68d160d9",
   "metadata": {},
   "outputs": [],
   "source": [
    "# Build a decision tree classifier\n",
    "clf = tree.DecisionTreeClassifier(random_state=2017)\n",
    "clf_rus = clf.fit(X_RUS_train, y_RUS_train)\n",
    "clf_ros = clf.fit(X_ROS_train, y_ROS_train)\n",
    "clf_smote = clf.fit(X_SMOTE_train, y_SMOTE_train)"
   ]
  },
  {
   "cell_type": "code",
   "execution_count": 9,
   "id": "c61cf006",
   "metadata": {},
   "outputs": [
    {
     "name": "stdout",
     "output_type": "stream",
     "text": [
      "\n",
      "RUS - Train AUC :  0.9819117984840364\n",
      "RUS - Test AUC :  0.9616517338642774\n",
      "ROS - Train AUC :  0.9912000000000001\n",
      "ROS - Test AUC :  0.9308070957555494\n",
      "\n",
      "SMOTE - Train AUC :  1.0\n",
      "SMOTE - Test AUC :  0.9042975228542238\n"
     ]
    }
   ],
   "source": [
    "# Evaluate model performance\n",
    "print (\"\\nRUS - Train AUC : \",metrics.roc_auc_score(y_RUS_train, clf.predict(X_RUS_train)))\n",
    "print (\"RUS - Test AUC : \",metrics.roc_auc_score(y_RUS_test, clf.predict(X_RUS_test)))\n",
    "print (\"ROS - Train AUC : \",metrics.roc_auc_score(y_ROS_train, clf.predict(X_ROS_train)))\n",
    "print (\"ROS - Test AUC : \",metrics.roc_auc_score(y_ROS_test, clf.predict(X_ROS_test)))\n",
    "print (\"\\nSMOTE - Train AUC : \",metrics.roc_auc_score(y_SMOTE_train, clf.predict(X_SMOTE_train)))\n",
    "print (\"SMOTE - Test AUC : \",metrics.roc_auc_score(y_SMOTE_test, clf.predict(X_SMOTE_test)))"
   ]
  },
  {
   "cell_type": "code",
   "execution_count": null,
   "id": "22c49f6c",
   "metadata": {},
   "outputs": [],
   "source": []
  }
 ],
 "metadata": {
  "kernelspec": {
   "display_name": "Python 3 (ipykernel)",
   "language": "python",
   "name": "python3"
  },
  "language_info": {
   "codemirror_mode": {
    "name": "ipython",
    "version": 3
   },
   "file_extension": ".py",
   "mimetype": "text/x-python",
   "name": "python",
   "nbconvert_exporter": "python",
   "pygments_lexer": "ipython3",
   "version": "3.9.5"
  }
 },
 "nbformat": 4,
 "nbformat_minor": 5
}
